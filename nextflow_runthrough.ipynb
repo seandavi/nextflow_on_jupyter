{
 "cells": [
  {
   "cell_type": "markdown",
   "metadata": {},
   "source": [
    "## Processes and channels\n",
    "\n",
    "In practice a Nextflow pipeline script is made by joining together different processes. Each process can be written in any scripting language that can be executed by the Linux platform (Bash, Perl, Ruby, Python, etc.).\n",
    "\n",
    "Processes are executed independently and are isolated from each other, i.e. they do not share a common (writable) state. The only way they can communicate is via asynchronous FIFO queues, called channels in Nextflow.\n",
    "\n",
    "Any process can define one or more channels as input and output. The interaction between these processes, and ultimately the pipeline execution flow itself, is implicitly defined by these input and output declarations.\n",
    "\n",
    "A Nextflow script looks like this:\n",
    "\n",
    "```\n",
    "// Script parameters\n",
    "params.query = \"/some/data/sample.fa\"\n",
    "params.db = \"/some/path/pdb\"\n",
    "\n",
    "db = file(params.db)\n",
    "query_ch = Channel.fromPath(params.query)\n",
    "\n",
    "process blastSearch {\n",
    "    input:\n",
    "    file query from query_ch\n",
    "\n",
    "    output:\n",
    "    file \"top_hits.txt\" into top_hits_ch\n",
    "\n",
    "    \"\"\"\n",
    "    blastp -db $db -query $query -outfmt 6 > blast_result\n",
    "    cat blast_result | head -n 10 | cut -f 2 > top_hits.txt\n",
    "    \"\"\"\n",
    "}\n",
    "\n",
    "process extractTopHits {\n",
    "    input:\n",
    "    file top_hits from top_hits_ch\n",
    "\n",
    "    output:\n",
    "    file \"sequences.txt\" into sequences_ch\n",
    "\n",
    "    \"\"\"\n",
    "    blastdbcmd -db $db -entry_batch $top_hits > sequences.txt\n",
    "    \"\"\"\n",
    "}\n",
    "```\n",
    "\n",
    "The above example defines two _processes_. Their *execution order* is not determined by the fact that the `blastSearch` process comes before extractTopHits in the script (it could also be written the other way around).\n",
    "\n",
    "Instead, because the first process defines the channel `top_hits_ch` in its output declarations, and the process `extractTopHits` defines the channel in its input declaration, a communication link is established.\n",
    "\n",
    "This linking via the channels means that `extractTopHits` is waiting for the output of `blastSearch`, and then runs reactively when the channel has contents."
   ]
  },
  {
   "cell_type": "code",
   "execution_count": null,
   "metadata": {},
   "outputs": [],
   "source": []
  }
 ],
 "metadata": {
  "kernelspec": {
   "display_name": "Bash",
   "language": "bash",
   "name": "bash"
  },
  "language_info": {
   "codemirror_mode": "shell",
   "file_extension": ".sh",
   "mimetype": "text/x-sh",
   "name": "bash"
  }
 },
 "nbformat": 4,
 "nbformat_minor": 4
}
